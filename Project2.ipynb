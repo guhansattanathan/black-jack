{
 "cells": [
  {
   "cell_type": "code",
   "execution_count": 1075,
   "id": "6f76681c-61bd-4db8-b755-5612d61985da",
   "metadata": {},
   "outputs": [],
   "source": [
    "import random\n",
    "from IPython.display import clear_output\n",
    "\n",
    "suit = ('Clubs','Spades','Hearts','Diamonds')\n",
    "values = ('Two','Three','Four','Five','Six','Seven','Eight','Nine','Ten','Jack','Queen','King','Ace')\n",
    "value_key = {'Two':2, 'Three':3, 'Four':4, 'Five':5, 'Six':6, 'Seven':7, 'Eight':8, 'Nine':9, 'Ten':10, 'Jack':10, 'Queen':10, 'King':10, 'Ace':11}"
   ]
  },
  {
   "cell_type": "code",
   "execution_count": 1077,
   "id": "6bb054d7-d5bc-4c3c-872d-8926fdef06f2",
   "metadata": {},
   "outputs": [],
   "source": [
    "class Card():\n",
    "\n",
    "    def __init__(self, suit, values):\n",
    "        self.suit = suit\n",
    "        self.values = values\n",
    "        self.rank = value_key[values]\n",
    "\n",
    "    def __str__(self):\n",
    "        return self.values + \" of \" + self.suit"
   ]
  },
  {
   "cell_type": "code",
   "execution_count": 1079,
   "id": "9c299e7a-0470-400a-8c43-65c963b252df",
   "metadata": {},
   "outputs": [],
   "source": [
    "class Deck():\n",
    "\n",
    "    def __init__(self):\n",
    "\n",
    "        self.all_cards = []\n",
    "\n",
    "        for x in suit:\n",
    "            for y in values:\n",
    "                self.all_cards.append(Card(x,y))\n",
    "                \n",
    "    def shuffle(self):\n",
    "        random.shuffle(self.all_cards)\n",
    "\n",
    "    def draw(self):\n",
    "        return self.all_cards.pop()\n",
    "\n"
   ]
  },
  {
   "cell_type": "code",
   "execution_count": 1081,
   "id": "6ee1a3dc-cf7b-4607-b021-e6e851239d88",
   "metadata": {},
   "outputs": [],
   "source": [
    "class Player():\n",
    "\n",
    "    def __init__(self,name,balance):\n",
    "        self.name = name\n",
    "        self.balance = balance \n",
    "        \n",
    "        \n",
    "    def bet_amount(self):\n",
    "\n",
    "        bet_money = 0\n",
    "        \n",
    "        while bet_money <= 100:\n",
    "            amount = int(input(\"How much are you betting: \"))\n",
    "            bet_money = 0\n",
    "            \n",
    "            if amount <= self.balance:\n",
    "                self.balance -= amount\n",
    "                bet_money = amount\n",
    "                break\n",
    "            else:\n",
    "                clear_output()\n",
    "                print(\"You are going over the balance\")\n",
    "                \n",
    "        return bet_money     \n",
    "\n",
    "    def hit_or_stand(self):\n",
    "\n",
    "        option = \"\"\n",
    "\n",
    "        while option not in ['HIT','STAND']:\n",
    "            option = input(\"Would you like to hit or stand? \")\n",
    "            bet_money = 0\n",
    "            \n",
    "            if option not in ['HIT','STAND']:\n",
    "                print(\"Sorry! Please choose one\")\n",
    "            else:\n",
    "                return option\n",
    "                break\n",
    "                \n",
    "    def __str__(self):\n",
    "        return (f'{self.name} has a balance of {self.balance} left')\n"
   ]
  },
  {
   "cell_type": "code",
   "execution_count": 1082,
   "id": "47f4bd9b-a1b8-48d5-9983-869bf2bf9714",
   "metadata": {},
   "outputs": [],
   "source": [
    "class Dealer():\n",
    "\n",
    "    def __init__(self,name):\n",
    "        self.name = name\n",
    "        self.cards_on_table = []\n",
    "        self.dealer_cards_on_table = []\n",
    "        self.card_instance = Deck()\n",
    "        self.card_instance.shuffle()\n",
    "         \n",
    "\n",
    "    def distribute_cards(self):\n",
    "        \n",
    "        for x in range(2):\n",
    "            self.cards_on_table.append(self.card_instance.draw())\n",
    "            self.dealer_cards_on_table.append(self.card_instance.draw())\n",
    "        \n",
    "\n",
    "    def pass_card(self):\n",
    "        \n",
    "        self.cards_on_table.append(self.card_instance.draw())\n",
    "\n",
    "    def pass_dealer_card(self):\n",
    "        \n",
    "        self.dealer_cards_on_table.append(self.card_instance.draw())\n",
    "\n",
    "        "
   ]
  },
  {
   "cell_type": "code",
   "execution_count": 1085,
   "id": "942259eb-7707-4dcf-a171-b2496ad0508b",
   "metadata": {},
   "outputs": [],
   "source": [
    "def replay():\n",
    "\n",
    "    for x in range(current_cards-1):\n",
    "        kobe.cards_on_table.pop(x)\n",
    "    for x in range(dealer_current_cards-1):\n",
    "        kobe.dealer_cards_on_table.pop(x)\n",
    "\n",
    "    return input('Do you want to play again? Enter Yes or No: ').lower().startswith('y')"
   ]
  },
  {
   "cell_type": "code",
   "execution_count": 1089,
   "id": "0b74d57e-7ba5-48c6-b9f8-a306925bac99",
   "metadata": {},
   "outputs": [
    {
     "name": "stdout",
     "output_type": "stream",
     "text": [
      "LeBron has a balance of 73 left\n"
     ]
    },
    {
     "name": "stdin",
     "output_type": "stream",
     "text": [
      "How much are you betting:  10\n"
     ]
    },
    {
     "name": "stdout",
     "output_type": "stream",
     "text": [
      "The cards have been passed out\n",
      "\n",
      "The money on the line is 20\n",
      "\n",
      "The current total of your cards is 15\n",
      "The dealers first card value is 6\n"
     ]
    },
    {
     "name": "stdin",
     "output_type": "stream",
     "text": [
      "Would you like to hit or stand?  HIT\n"
     ]
    },
    {
     "name": "stdout",
     "output_type": "stream",
     "text": [
      "Oops! You've Busted\n"
     ]
    },
    {
     "name": "stdin",
     "output_type": "stream",
     "text": [
      "Do you want to play again? Enter Yes or No:  No\n"
     ]
    }
   ],
   "source": [
    "print(\"Welcome to the game of BLACKJACK\")\n",
    "\n",
    "lebron = Player(\"LeBron\",100)\n",
    "kobe = Dealer(\"Kobe\")\n",
    "\n",
    "game_on = True\n",
    "\n",
    "while game_on:\n",
    "\n",
    "    clear_output()\n",
    "    print(lebron)\n",
    "    bet = lebron.bet_amount() * 2\n",
    "    \n",
    "    kobe.distribute_cards()\n",
    "    \n",
    "    user_card_values = kobe.cards_on_table[0].rank + kobe.cards_on_table[1].rank\n",
    "    current_cards = 2\n",
    "    \n",
    "    dealer_card_value = kobe.dealer_cards_on_table[0].rank + kobe.dealer_cards_on_table[1].rank\n",
    "    dealer_current_cards = 2\n",
    "    \n",
    "    print(\"The cards have been passed out\\n\")\n",
    "    print(\"The money on the line is {}\\n\".format(bet))\n",
    "    \n",
    "    print(f'The current total of your cards is {user_card_values}')\n",
    "    print(f'The dealers first card value is {kobe.dealer_cards_on_table[0].rank}')\n",
    "    \n",
    "    if user_card_values == 21:\n",
    "        print(\"BLACKJACK! YOU WIN!\")\n",
    "        lebron.balance += bet\n",
    "        game_on = replay()\n",
    "        break\n",
    "    \n",
    "    move = \"\"\n",
    "    \n",
    "    while move != 'STAND':\n",
    "    \n",
    "        move = lebron.hit_or_stand()\n",
    "    \n",
    "        if move == 'STAND':\n",
    "            print(f'The current total of your cards is {user_card_values}. Now the Dealer will try to beat you!') \n",
    "    \n",
    "            if dealer_card_value == 21:\n",
    "                print(\"BLACKJACK! The dealer wins\")\n",
    "                game_on = replay()\n",
    "                break\n",
    "    \n",
    "            if dealer_card_value < 21 and dealer_card_value > user_card_value:\n",
    "                print(\"The dealer wins\")\n",
    "                game_on = replay()\n",
    "                break\n",
    "        \n",
    "            else:\n",
    "                while dealer_card_value < 21:\n",
    "                    kobe.pass_dealer_card()\n",
    "                    dealer_current_cards += 1\n",
    "                    dealer_card_value += kobe.dealer_cards_on_table[dealer_current_cards - 1].rank\n",
    "        \n",
    "                    if dealer_card_value < 21 and dealer_card_value > user_card_value:\n",
    "                        print(\"The dealer wins\")\n",
    "                        game_on = replay()\n",
    "                        break\n",
    "        \n",
    "                    else:\n",
    "        \n",
    "                        if dealer_card_value > 21:\n",
    "                            print(\"The dealer busted! YOU WIN!\")\n",
    "                            lebron.balance += bet\n",
    "                            game_on = replay()\n",
    "                            break\n",
    "                        \n",
    "                \n",
    "        else:\n",
    "            kobe.pass_card()\n",
    "            current_cards += 1\n",
    "            user_card_values += kobe.cards_on_table[current_cards - 1].rank\n",
    "    \n",
    "            if user_card_values > 21:\n",
    "                print(\"Oops! You've Busted\")\n",
    "                game_on = replay()\n",
    "                break\n",
    "    \n",
    "            if user_card_values == 21:\n",
    "                print(\"BLACKJACK! YOU WIN!\")\n",
    "                lebron.balance += bet\n",
    "                game_on = replay()\n",
    "                break\n",
    "    \n",
    "            else:\n",
    "                clear_output()\n",
    "                print(f'The current total of your cards is {user_card_values}')\n",
    "    "
   ]
  },
  {
   "cell_type": "code",
   "execution_count": null,
   "id": "9948738a-b24a-4a5d-aac0-2c6a9b340190",
   "metadata": {},
   "outputs": [],
   "source": []
  }
 ],
 "metadata": {
  "kernelspec": {
   "display_name": "Python 3 (ipykernel)",
   "language": "python",
   "name": "python3"
  },
  "language_info": {
   "codemirror_mode": {
    "name": "ipython",
    "version": 3
   },
   "file_extension": ".py",
   "mimetype": "text/x-python",
   "name": "python",
   "nbconvert_exporter": "python",
   "pygments_lexer": "ipython3",
   "version": "3.12.4"
  }
 },
 "nbformat": 4,
 "nbformat_minor": 5
}
